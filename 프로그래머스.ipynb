{
  "nbformat": 4,
  "nbformat_minor": 0,
  "metadata": {
    "colab": {
      "provenance": [],
      "authorship_tag": "ABX9TyOO1XsRUc06/V8BoQN6vwfm",
      "include_colab_link": true
    },
    "kernelspec": {
      "name": "python3",
      "display_name": "Python 3"
    },
    "language_info": {
      "name": "python"
    }
  },
  "cells": [
    {
      "cell_type": "markdown",
      "metadata": {
        "id": "view-in-github",
        "colab_type": "text"
      },
      "source": [
        "<a href=\"https://colab.research.google.com/github/minalang/study_code_paper/blob/main/%ED%94%84%EB%A1%9C%EA%B7%B8%EB%9E%98%EB%A8%B8%EC%8A%A4.ipynb\" target=\"_parent\"><img src=\"https://colab.research.google.com/assets/colab-badge.svg\" alt=\"Open In Colab\"/></a>"
      ]
    },
    {
      "cell_type": "markdown",
      "source": [
        "# 240220"
      ],
      "metadata": {
        "id": "cftQaXY-iCHe"
      }
    },
    {
      "cell_type": "markdown",
      "source": [
        "## 최솟값 만들기\n",
        "https://school.programmers.co.kr/learn/courses/30/lessons/12941\n",
        "\n",
        "배열 A, B가 주어질 때 최종적으로 누적된 최솟값을 return 하는 solution 함수를 완성해 주세요."
      ],
      "metadata": {
        "id": "C8Q_-KRhiHG2"
      }
    },
    {
      "cell_type": "code",
      "source": [
        "def solution(A,B):\n",
        "    answer = 0\n",
        "    ans1 = 0\n",
        "    ans2 = 0\n",
        "    length = len(A)\n",
        "    idx = length-1\n",
        "    s_a = sorted(A)\n",
        "    s_b = sorted(B)\n",
        "    for i in range(length):\n",
        "        ans1+=((s_a[i])*(s_b[idx-i]))\n",
        "        ans2+=((s_b[i])*(s_a[idx-i]))\n",
        "    if ans1<=ans2:\n",
        "        answer = ans1\n",
        "    else:\n",
        "        answer = ans2\n",
        "\n",
        "    return answer"
      ],
      "metadata": {
        "id": "xQHJJaGXh-ff"
      },
      "execution_count": null,
      "outputs": []
    },
    {
      "cell_type": "markdown",
      "source": [
        "# 240221"
      ],
      "metadata": {
        "id": "j5cek20ViT0b"
      }
    },
    {
      "cell_type": "markdown",
      "source": [
        "## 이진변환 반복하기\n",
        "https://school.programmers.co.kr/learn/courses/30/lessons/70129<br>\n",
        "\n",
        "0과 1로 이루어진 어떤 문자열 x에 대한 이진 변환을 다음과 같이 정의합니다.\n",
        "\n",
        "x의 모든 0을 제거합니다.\n",
        "x의 길이를 c라고 하면, x를 \"c를 2진법으로 표현한 문자열\"로 바꿉니다.\n",
        "예를 들어, x = \"0111010\"이라면, x에 이진 변환을 가하면 x = \"0111010\" -> \"1111\" -> \"100\" 이 됩니다.\n",
        "\n",
        "0과 1로 이루어진 문자열 s가 매개변수로 주어집니다. s가 \"1\"이 될 때까지 계속해서 s에 이진 변환을 가했을 때, 이진 변환의 횟수와 변환 과정에서 제거된 모든 0의 개수를 각각 배열에 담아 return 하도록 solution 함수를 완성하기"
      ],
      "metadata": {
        "id": "vRRi1BpUiYL5"
      }
    },
    {
      "cell_type": "code",
      "source": [
        "## 내 풀이\n",
        "# 이진변환 함수\n",
        "def binary(num):\n",
        "    result = []\n",
        "    for i in range(num//2):\n",
        "        if num // 2 == 1:\n",
        "            result.append(1)\n",
        "            result.append(num%2)\n",
        "            break\n",
        "        else:\n",
        "            result.append(num%2)\n",
        "            num = num // 2\n",
        "            binary(num)\n",
        "\n",
        "    result = list(reversed(result))\n",
        "    result = list(map(str, result)) #str아니면 join이 안됨\n",
        "    ans = ''.join(result)\n",
        "    return ans\n",
        "\n",
        "\n",
        "def solution(s):\n",
        "    answer = []\n",
        "    bi = 0\n",
        "    num_zeros = 0\n",
        "    # 몇 번의 이진변환을 했는지, 제거한 0의 개수\n",
        "    for i in range(len(s)):\n",
        "        if s == \"\": #''이전 마지막이 01인데 이것도 함께 세어줘야 정답이 됨\n",
        "            break\n",
        "        else:\n",
        "            new_s = s.replace('0', '')\n",
        "            num_zeros += (len(s) - len(new_s))\n",
        "            length = len(new_s)\n",
        "            s = str(binary(length))\n",
        "            bi+=1\n",
        "            #print(s)\n",
        "    answer.append(bi)\n",
        "    answer.append(num_zeros)\n",
        "    return answer"
      ],
      "metadata": {
        "id": "PHvaB4qmh-cU"
      },
      "execution_count": null,
      "outputs": []
    },
    {
      "cell_type": "code",
      "source": [
        "# 다른 사람 풀이\n",
        "def solution(s):\n",
        "    a, b = 0, 0\n",
        "    while s != '1':\n",
        "        a += 1\n",
        "        num = s.count('1')\n",
        "        b += len(s) - num\n",
        "        s = bin(num)[2:] #왜 이런 함수가 있지...\n",
        "        print(s)\n",
        "    return [a, b]\n",
        "\n",
        "solution('1111') #부럽다.."
      ],
      "metadata": {
        "id": "dKHa1Y_hh-Yr"
      },
      "execution_count": 1,
      "outputs": []
    },
    {
      "cell_type": "markdown",
      "source": [
        "### 재귀함수를 이용한 이진변환"
      ],
      "metadata": {
        "id": "znTwol2Yiqjg"
      }
    },
    {
      "cell_type": "code",
      "source": [
        "## 이진변환은 이렇게도 할 수 있음\n",
        "\n",
        "def binary(num):\n",
        "    if num == 1:\n",
        "        return '1'\n",
        "    else:\n",
        "        return binary(num // 2) + str(num % 2)\n",
        "\n",
        "print(binary(10))"
      ],
      "metadata": {
        "id": "e1RlHN9Ih-V4"
      },
      "execution_count": null,
      "outputs": []
    },
    {
      "cell_type": "markdown",
      "source": [
        "### 삼진변환도 해보자"
      ],
      "metadata": {
        "id": "SwPF2_8Misdg"
      }
    },
    {
      "cell_type": "code",
      "source": [
        "def tri(num):\n",
        "  if num < 3:\n",
        "    return str(num)\n",
        "  else:\n",
        "    return tri(num // 3) + str(num % 3)\n",
        "\n",
        "tri(45)"
      ],
      "metadata": {
        "id": "uCXEqKanh-SX"
      },
      "execution_count": null,
      "outputs": []
    },
    {
      "cell_type": "markdown",
      "source": [
        "# 240222"
      ],
      "metadata": {
        "id": "hvwmARJ5ivnA"
      }
    },
    {
      "cell_type": "markdown",
      "source": [
        "## 3진법 뒤집기\n",
        "https://school.programmers.co.kr/learn/courses/30/lessons/68935\n",
        "\n",
        "자연수 n이 매개변수로 주어집니다. n을 3진법 상에서 앞뒤로 뒤집은 후, <br>이를 다시 10진법으로 표현한 수를 return 하도록 solution 함수를 완성해주세요."
      ],
      "metadata": {
        "id": "BArutKBhizAS"
      }
    },
    {
      "cell_type": "code",
      "source": [
        "# 3진변환을 간략하게 재귀함수로 풀어냄!_!\n",
        "def tri(num):\n",
        "    if num < 3:\n",
        "        return str(num)\n",
        "    else:\n",
        "        return tri(num // 3) + str(num % 3)\n",
        "\n",
        "def solution(n):\n",
        "    answer = 0\n",
        "    tri_str = tri(n)[::-1] # 문자열 반대로 만들기\n",
        "    length = len(tri_str)\n",
        "    for i in range(length):\n",
        "        answer+= int(tri_str[length-1-i]) * (3**i) # 제곱일 때 **\n",
        "        print(answer)\n",
        "    return answer"
      ],
      "metadata": {
        "id": "jre5UcZQh-Pi"
      },
      "execution_count": null,
      "outputs": []
    },
    {
      "cell_type": "markdown",
      "source": [
        "# 240223"
      ],
      "metadata": {
        "id": "AmBl-FqULUFc"
      }
    },
    {
      "cell_type": "markdown",
      "source": [
        "## 짝수는 싫어요\n",
        "https://school.programmers.co.kr/learn/courses/30/lessons/120813\n",
        "\n",
        "정수 n이 매개변수로 주어질 때, n 이하의 홀수가 오름차순으로 담긴 배열을 return하도록 solution 함수를 완성해주세요."
      ],
      "metadata": {
        "id": "SIIwVCFwLX-N"
      }
    },
    {
      "cell_type": "code",
      "execution_count": null,
      "metadata": {
        "id": "Axl2X0euLRDT"
      },
      "outputs": [],
      "source": [
        "# 내 풀이\n",
        "\n",
        "def solution(n):\n",
        "    a_list = []\n",
        "    if n%2 == 1:\n",
        "        for i in range(1, n+1, 2):\n",
        "            a_list.append(i)\n",
        "        answer = sorted(a_list)\n",
        "    else:\n",
        "        for i in range(1, n, 2):\n",
        "            a_list.append(i)\n",
        "        answer = sorted(a_list)\n",
        "    return answer"
      ]
    },
    {
      "cell_type": "code",
      "source": [
        "# 다른 사람 풀이\n",
        "\n",
        "def solution(n):\n",
        "  return [i for i in range(1, n+1, 2)] #짝수나 홀수나 똑같음"
      ],
      "metadata": {
        "id": "-I2K1kZ2LdlC"
      },
      "execution_count": null,
      "outputs": []
    },
    {
      "cell_type": "markdown",
      "source": [
        "## 거대한 해시 세계관"
      ],
      "metadata": {
        "id": "fMYnDnOTyn3f"
      }
    },
    {
      "cell_type": "markdown",
      "source": [
        "## 전화번호 목록\n",
        "https://school.programmers.co.kr/learn/courses/30/lessons/42577\n",
        "\n",
        "전화번호부에 적힌 전화번호를 담은 배열 phone_book 이 solution 함수의 매개변수로 주어질 때, 어떤 번호가 다른 번호의 접두어인 경우가 있으면 false를 그렇지 않으면 true를 return 하도록 solution 함수를 작성해주세요."
      ],
      "metadata": {
        "id": "Cdp3FTEpLttr"
      }
    },
    {
      "cell_type": "code",
      "source": [
        "# 시간 효율성까지 모두 고려한 정답\n",
        "\n",
        "def solution(phone_book):\n",
        "    answer = True\n",
        "    new = sorted(phone_book) # 접두어 후보가 될 수 있는 친구들이 쌍으로 붙음\n",
        "    for i in range(len(new)-1):\n",
        "        if new[i+1].startswith(new[i]):\n",
        "            answer = False"
      ],
      "metadata": {
        "id": "Jjx-yh0msMfL"
      },
      "execution_count": null,
      "outputs": []
    },
    {
      "cell_type": "code",
      "source": [
        "# 하지만 이렇게도 풀 수 있지\n",
        "def solution(phone_book):\n",
        "  answer = True\n",
        "  for num in phone_book:\n",
        "    new = phone_book.copy() #하나 copy뜨고\n",
        "    new.remove(num) #비교 대상인 원소 지우고\n",
        "    ans_list = [c for c in new if c.startswith(num)] #리스트 컴프리헨션으로 시간 단축\n",
        "    if len(ans_list) != 0: #조건에 맞는 원소 하나 이상 있으면 정답 False로 변경\n",
        "        answer = False"
      ],
      "metadata": {
        "id": "aHmEs3rQsYOu"
      },
      "execution_count": null,
      "outputs": []
    },
    {
      "cell_type": "code",
      "source": [
        "# 조금 더 비효율적이지만 이렇게도 풀 수 있지\n",
        "def solution(phone_book):\n",
        "  answer = True\n",
        "  for num in phone_book:\n",
        "    new = phone_book.copy() #하나 copy뜨고\n",
        "    new.remove(num) #비교 대상인 원소 지우고\n",
        "    for c in new: # for문 한 번 더 수행\n",
        "        if c.startswith(num):\n",
        "            answer = False"
      ],
      "metadata": {
        "id": "JqIFeXznsugH"
      },
      "execution_count": null,
      "outputs": []
    },
    {
      "cell_type": "code",
      "source": [
        "# 대표정답코드는 이렇대\n",
        "def solution(phoneBook):\n",
        "    phoneBook = sorted(phoneBook)\n",
        "\n",
        "    for p1, p2 in zip(phoneBook, phoneBook[1:]): # 다중 원소를 순회할 때 사용하는 기능 zip\n",
        "        print(p1)\n",
        "        print(p2)\n",
        "        if p2.startswith(p1):\n",
        "            return False\n",
        "    return True\n",
        "\n",
        "solution([\"123\",\"456\",\"789\"])"
      ],
      "metadata": {
        "colab": {
          "base_uri": "https://localhost:8080/"
        },
        "id": "ZoJpgPKXtE9F",
        "outputId": "f011d1c8-ce79-42d0-f5ee-ccc066b5ee6a"
      },
      "execution_count": null,
      "outputs": [
        {
          "output_type": "stream",
          "name": "stdout",
          "text": [
            "123\n",
            "456\n",
            "456\n",
            "789\n"
          ]
        },
        {
          "output_type": "execute_result",
          "data": {
            "text/plain": [
              "True"
            ]
          },
          "metadata": {},
          "execution_count": 2
        }
      ]
    },
    {
      "cell_type": "markdown",
      "source": [
        "### 해시 알고리즘\n",
        "key:value쌍으로 쉽게 비교하기\n"
      ],
      "metadata": {
        "id": "P-hRu0TNu0i4"
      }
    },
    {
      "cell_type": "code",
      "source": [
        "# 해시가 뭐지\n",
        "def solution(phone_book):\n",
        "    answer = True\n",
        "    hash_map = {}\n",
        "    for phone_number in phone_book:\n",
        "        hash_map[phone_number] = 1\n",
        "    print(hash_map)\n",
        "    for phone_number in phone_book:\n",
        "        temp = \"\"\n",
        "        for number in phone_number:\n",
        "            temp += number\n",
        "            print(temp)\n",
        "            if temp in hash_map and temp != phone_number:\n",
        "                answer = False\n",
        "    return answer\n",
        "\n",
        "\n",
        "#solution([\"123\",\"456\",\"789\"])\n",
        "solution([\"119\", \"97674223\", \"1195524421\"])"
      ],
      "metadata": {
        "id": "FnWzVGxdtLvi",
        "colab": {
          "base_uri": "https://localhost:8080/"
        },
        "outputId": "a81fe129-37c6-4e2f-a7d4-97f057bc15ab"
      },
      "execution_count": null,
      "outputs": [
        {
          "output_type": "stream",
          "name": "stdout",
          "text": [
            "{'119': 1, '97674223': 1, '1195524421': 1}\n",
            "1\n",
            "11\n",
            "119\n",
            "9\n",
            "97\n",
            "976\n",
            "9767\n",
            "97674\n",
            "976742\n",
            "9767422\n",
            "97674223\n",
            "1\n",
            "11\n",
            "119\n",
            "1195\n",
            "11955\n",
            "119552\n",
            "1195524\n",
            "11955244\n",
            "119552442\n",
            "1195524421\n"
          ]
        },
        {
          "output_type": "execute_result",
          "data": {
            "text/plain": [
              "False"
            ]
          },
          "metadata": {},
          "execution_count": 4
        }
      ]
    },
    {
      "cell_type": "markdown",
      "source": [
        "## 완주하지 못한 선수\n",
        "https://school.programmers.co.kr/learn/courses/30/lessons/42576\n",
        "\n",
        "단 한 명의 선수를 제외하고는 모든 선수가 마라톤을 완주하였습니다.\n",
        "\n",
        "마라톤에 참여한 선수들의 이름이 담긴 배열 participant와 완주한 선수들의 이름이 담긴 배열 completion이 주어질 때, 완주하지 못한 선수의 이름을 return 하도록 solution 함수를 작성해주세요."
      ],
      "metadata": {
        "id": "4a3lvEqeyjQg"
      }
    },
    {
      "cell_type": "code",
      "source": [
        "def solution(participant, completion):\n",
        "    answer = ''\n",
        "    #for c in completion:\n",
        "    #    participant.remove(c)\n",
        "    #answer+=participant[0]\n",
        "    # 정렬을 해보자\n",
        "    participant = sorted(participant)\n",
        "    completion = sorted(completion)\n",
        "    for i in range(0, len(completion)):\n",
        "        if participant[i] == completion[i]:\n",
        "            pass\n",
        "        else:\n",
        "            answer+=participant[i]\n",
        "            break\n",
        "    if answer == '':\n",
        "        answer+=participant[-1]\n",
        "    return answer"
      ],
      "metadata": {
        "id": "flDlbvPTzMrO"
      },
      "execution_count": null,
      "outputs": []
    },
    {
      "cell_type": "code",
      "source": [
        "# 두개를 sorting한 뒤 같으면 넘기고 다르면 그 사람이 완주하지 못한 사람이니까 짚어내고 / 다 같으면 마지막 사람\n",
        "\n",
        "\n",
        "def solution(participant, completion):\n",
        "  answer = ''\n",
        "  participant.sort()\n",
        "  completion.sort()\n",
        "  for i in range(len(participant)-1):\n",
        "    if participant[i] != completion[i]:\n",
        "      answer = participant[i]\n",
        "  if answer == '':\n",
        "    answer = participant[-1]\n",
        "  return answer\n",
        "\n",
        "solution([\"mislav\", \"stanko\", \"mislav\", \"ana\"], [\"stanko\", \"ana\", \"mislav\"])"
      ],
      "metadata": {
        "colab": {
          "base_uri": "https://localhost:8080/",
          "height": 36
        },
        "id": "5KMNmopzwEzN",
        "outputId": "8836a8d7-76ff-4144-ec12-9588cf097314"
      },
      "execution_count": null,
      "outputs": [
        {
          "output_type": "execute_result",
          "data": {
            "text/plain": [
              "'mislav'"
            ],
            "application/vnd.google.colaboratory.intrinsic+json": {
              "type": "string"
            }
          },
          "metadata": {},
          "execution_count": 5
        }
      ]
    },
    {
      "cell_type": "markdown",
      "source": [
        "## 의상\n"
      ],
      "metadata": {
        "id": "3zp6ZsrY0FyL"
      }
    },
    {
      "cell_type": "code",
      "source": [],
      "metadata": {
        "id": "Vn8ECeS3zrIS"
      },
      "execution_count": null,
      "outputs": []
    }
  ]
}