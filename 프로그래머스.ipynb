{
  "nbformat": 4,
  "nbformat_minor": 0,
  "metadata": {
    "colab": {
      "provenance": [],
      "authorship_tag": "ABX9TyPjT0elHu0/bOLXfIde19Xt",
      "include_colab_link": true
    },
    "kernelspec": {
      "name": "python3",
      "display_name": "Python 3"
    },
    "language_info": {
      "name": "python"
    }
  },
  "cells": [
    {
      "cell_type": "markdown",
      "metadata": {
        "id": "view-in-github",
        "colab_type": "text"
      },
      "source": [
        "<a href=\"https://colab.research.google.com/github/minalang/study_code_paper/blob/main/%ED%94%84%EB%A1%9C%EA%B7%B8%EB%9E%98%EB%A8%B8%EC%8A%A4.ipynb\" target=\"_parent\"><img src=\"https://colab.research.google.com/assets/colab-badge.svg\" alt=\"Open In Colab\"/></a>"
      ]
    },
    {
      "cell_type": "markdown",
      "source": [
        "## 240223"
      ],
      "metadata": {
        "id": "AmBl-FqULUFc"
      }
    },
    {
      "cell_type": "markdown",
      "source": [
        "### 짝수는 싫어요\n",
        "정수 n이 매개변수로 주어질 때, n 이하의 홀수가 오름차순으로 담긴 배열을 return하도록 solution 함수를 완성해주세요."
      ],
      "metadata": {
        "id": "SIIwVCFwLX-N"
      }
    },
    {
      "cell_type": "code",
      "execution_count": null,
      "metadata": {
        "id": "Axl2X0euLRDT"
      },
      "outputs": [],
      "source": [
        "# 내 풀이\n",
        "\n",
        "def solution(n):\n",
        "    a_list = []\n",
        "    if n%2 == 1:\n",
        "        for i in range(1, n+1, 2):\n",
        "            a_list.append(i)\n",
        "        answer = sorted(a_list)\n",
        "    else:\n",
        "        for i in range(1, n, 2):\n",
        "            a_list.append(i)\n",
        "        answer = sorted(a_list)\n",
        "    return answer"
      ]
    },
    {
      "cell_type": "code",
      "source": [
        "# 다른 사람 풀이\n",
        "\n",
        "def solution(n):\n",
        "  return [i for i in range(1, n+1, 2)] #짝수나 홀수나 똑같음"
      ],
      "metadata": {
        "id": "-I2K1kZ2LdlC"
      },
      "execution_count": null,
      "outputs": []
    },
    {
      "cell_type": "markdown",
      "source": [
        "### 전화번호 목록\n",
        "\n",
        "전화번호부에 적힌 전화번호를 담은 배열 phone_book 이 solution 함수의 매개변수로 주어질 때, 어떤 번호가 다른 번호의 접두어인 경우가 있으면 false를 그렇지 않으면 true를 return 하도록 solution 함수를 작성해주세요."
      ],
      "metadata": {
        "id": "Cdp3FTEpLttr"
      }
    },
    {
      "cell_type": "code",
      "source": [
        "# 시간 효율성까지 모두 고려한 정답\n",
        "\n",
        "def solution(phone_book):\n",
        "    answer = True\n",
        "    new = sorted(phone_book) # 접두어 후보가 될 수 있는 친구들이 쌍으로 붙음\n",
        "    for i in range(len(new)-1):\n",
        "        if new[i+1].startswith(new[i]):\n",
        "            answer = False"
      ],
      "metadata": {
        "id": "Jjx-yh0msMfL"
      },
      "execution_count": null,
      "outputs": []
    },
    {
      "cell_type": "code",
      "source": [
        "# 하지만 이렇게도 풀 수 있지\n",
        "def solution(phone_book):\n",
        "  answer = True\n",
        "  for num in phone_book:\n",
        "    new = phone_book.copy() #하나 copy뜨고\n",
        "    new.remove(num) #비교 대상인 원소 지우고\n",
        "    ans_list = [c for c in new if c.startswith(num)] #리스트 컴프리헨션으로 시간 단축\n",
        "    if len(ans_list) != 0: #조건에 맞는 원소 하나 이상 있으면 정답 False로 변경\n",
        "        answer = False"
      ],
      "metadata": {
        "id": "aHmEs3rQsYOu"
      },
      "execution_count": null,
      "outputs": []
    },
    {
      "cell_type": "code",
      "source": [
        "# 조금 더 비효율적이지만 이렇게도 풀 수 있지\n",
        "def solution(phone_book):\n",
        "  answer = True\n",
        "  for num in phone_book:\n",
        "    new = phone_book.copy() #하나 copy뜨고\n",
        "    new.remove(num) #비교 대상인 원소 지우고\n",
        "    for c in new: # for문 한 번 더 수행\n",
        "        if c.startswith(num):\n",
        "            answer = False"
      ],
      "metadata": {
        "id": "JqIFeXznsugH"
      },
      "execution_count": null,
      "outputs": []
    },
    {
      "cell_type": "code",
      "source": [
        "# 대표정답코드는 이렇대\n",
        "def solution(phoneBook):\n",
        "    phoneBook = sorted(phoneBook)\n",
        "\n",
        "    for p1, p2 in zip(phoneBook, phoneBook[1:]): # 다중 원소를 순회할 때 사용하는 기능 zip\n",
        "        print(p1)\n",
        "        print(p2)\n",
        "        if p2.startswith(p1):\n",
        "            return False\n",
        "    return True\n",
        "\n",
        "solution([\"123\",\"456\",\"789\"])"
      ],
      "metadata": {
        "colab": {
          "base_uri": "https://localhost:8080/"
        },
        "id": "ZoJpgPKXtE9F",
        "outputId": "f011d1c8-ce79-42d0-f5ee-ccc066b5ee6a"
      },
      "execution_count": null,
      "outputs": [
        {
          "output_type": "stream",
          "name": "stdout",
          "text": [
            "123\n",
            "456\n",
            "456\n",
            "789\n"
          ]
        },
        {
          "output_type": "execute_result",
          "data": {
            "text/plain": [
              "True"
            ]
          },
          "metadata": {},
          "execution_count": 2
        }
      ]
    },
    {
      "cell_type": "markdown",
      "source": [
        "### 해시 알고리즘\n",
        "key:value쌍으로 쉽게 비교하기\n"
      ],
      "metadata": {
        "id": "P-hRu0TNu0i4"
      }
    },
    {
      "cell_type": "code",
      "source": [
        "# 해시가 뭐지\n",
        "def solution(phone_book):\n",
        "    answer = True\n",
        "    hash_map = {}\n",
        "    for phone_number in phone_book:\n",
        "        hash_map[phone_number] = 1\n",
        "    for phone_number in phone_book:\n",
        "        temp = \"\"\n",
        "        for number in phone_number:\n",
        "            temp += number\n",
        "            if temp in hash_map and temp != phone_number:\n",
        "                answer = False\n",
        "    return answer"
      ],
      "metadata": {
        "id": "FnWzVGxdtLvi"
      },
      "execution_count": null,
      "outputs": []
    }
  ]
}